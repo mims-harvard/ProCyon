{
 "cells": [
  {
   "cell_type": "code",
   "execution_count": 1,
   "id": "879ed209",
   "metadata": {},
   "outputs": [],
   "source": [
    "import os\n",
    "\n",
    "import numpy as np\n",
    "import pandas as pd\n",
    "\n",
    "from pyspark.sql import SparkSession\n",
    "from cmapPy.pandasGEXpress.parse_gct import parse\n",
    "\n",
    "from procyon.data.data_utils import DATA_DIR"
   ]
  },
  {
   "cell_type": "code",
   "execution_count": 2,
   "id": "30809496",
   "metadata": {},
   "outputs": [],
   "source": [
    "pd_dir = os.path.join(\n",
    "    DATA_DIR,\n",
    "    \"experimental_data\",\n",
    "    \"PD_uncharacterized\",\n",
    "    \"control_genes_reproduction\"\n",
    ")\n",
    "\n",
    "def pd_path(fn: str) -> str:\n",
    "    return os.path.join(pd_dir, fn)"
   ]
  },
  {
   "cell_type": "markdown",
   "id": "4e3560ae",
   "metadata": {},
   "source": [
    "In this notebook, we produce the lists of control genes used for the analysis of ProCyon's ability to predict the function of poorly characterized proteins with known associations to Parkinson's Disease. \n",
    "\n",
    "These control lists are used in the analyses shown in Figure 6 of our manuscript."
   ]
  },
  {
   "cell_type": "markdown",
   "id": "17c60b78-4455-4ab2-a8be-1c99ac7980e4",
   "metadata": {},
   "source": [
    "# Genes in > 3 diseases\n",
    "\n",
    "Extract the gene - disease associations from OpenTargets. Here we use the OpenTargets dataset giving overall scores for direct disease associations. This dataset can be downloaded [here](https://platform.opentargets.org/downloads) as the \"Associations - direct (overall score)\" dataset."
   ]
  },
  {
   "cell_type": "code",
   "execution_count": 3,
   "id": "b3e5926d",
   "metadata": {},
   "outputs": [],
   "source": [
    "# Change this to the path to your OpenTargets download\n",
    "evidencePath = \"/path/to/OpenTargets/associationByOverallDirect/\""
   ]
  },
  {
   "cell_type": "code",
   "execution_count": 4,
   "id": "a4ab67ca-162c-486f-833d-8146e3953c9e",
   "metadata": {},
   "outputs": [
    {
     "name": "stderr",
     "output_type": "stream",
     "text": [
      "Setting default log level to \"WARN\".\n",
      "To adjust logging level use sc.setLogLevel(newLevel). For SparkR, use setLogLevel(newLevel).\n",
      "25/01/28 19:30:13 WARN NativeCodeLoader: Unable to load native-hadoop library for your platform... using builtin-java classes where applicable\n"
     ]
    },
    {
     "name": "stdout",
     "output_type": "stream",
     "text": [
      "root\n",
      " |-- diseaseId: string (nullable = true)\n",
      " |-- targetId: string (nullable = true)\n",
      " |-- diseaseLabel: string (nullable = true)\n",
      " |-- targetName: string (nullable = true)\n",
      " |-- targetSymbol: string (nullable = true)\n",
      " |-- overallDatasourceHarmonicScore: double (nullable = true)\n",
      " |-- overallDatatypeHarmonicScore: double (nullable = true)\n",
      " |-- overallDatasourceHarmonicVector: array (nullable = true)\n",
      " |    |-- element: struct (containsNull = true)\n",
      " |    |    |-- datasourceId: string (nullable = true)\n",
      " |    |    |-- datasourceHarmonicScore: double (nullable = true)\n",
      " |    |    |-- datasourceEvidenceCount: long (nullable = true)\n",
      " |    |    |-- weight: double (nullable = true)\n",
      " |-- overallDatatypeHarmonicVector: array (nullable = true)\n",
      " |    |-- element: struct (containsNull = true)\n",
      " |    |    |-- datatypeId: string (nullable = true)\n",
      " |    |    |-- datatypeHarmonicScore: double (nullable = true)\n",
      " |    |    |-- datatypeEvidenceCount: long (nullable = true)\n",
      " |    |    |-- weight: double (nullable = true)\n",
      " |-- overallDatasourceEvidenceCount: double (nullable = true)\n",
      " |-- overallDatatypeEvidenceCount: double (nullable = true)\n",
      "\n",
      "+-----------+---------------+----------------+--------------------+------------+------------------------------+----------------------------+\n",
      "|  diseaseId|       targetId|    diseaseLabel|          targetName|targetSymbol|overallDatasourceHarmonicScore|overallDatatypeHarmonicScore|\n",
      "+-----------+---------------+----------------+--------------------+------------+------------------------------+----------------------------+\n",
      "|EFO_0000305|ENSG00000000003|breast carcinoma|       tetraspanin 6|      TSPAN6|          0.017416968888271284|        0.017416968888271284|\n",
      "|EFO_0000305|ENSG00000000005|breast carcinoma|         tenomodulin|        TNMD|          0.025026262158649122|        0.025026262158649122|\n",
      "|EFO_0000305|ENSG00000000971|breast carcinoma| complement factor H|         CFH|           0.02551491676593543|         0.02551491676593543|\n",
      "|EFO_0000305|ENSG00000001084|breast carcinoma|glutamate-cystein...|        GCLC|          0.022156097560975613|         0.02215609756097561|\n",
      "|EFO_0000305|ENSG00000001167|breast carcinoma|nuclear transcrip...|        NFYA|                         0.004|                       0.004|\n",
      "|EFO_0000305|ENSG00000001626|breast carcinoma|CF transmembrane ...|        CFTR|          0.005836734693877...|        0.005836734693877...|\n",
      "|EFO_0000305|ENSG00000001630|breast carcinoma|cytochrome P450 f...|     CYP51A1|           0.21810990571975708|         0.21810990571975708|\n",
      "|EFO_0000305|ENSG00000001631|breast carcinoma|KRIT1 ankyrin rep...|       KRIT1|          0.008775510204081632|        0.008775510204081632|\n",
      "|EFO_0000305|ENSG00000002016|breast carcinoma|RAD52 homolog, DN...|       RAD52|                         0.004|                       0.004|\n",
      "|EFO_0000305|ENSG00000002330|breast carcinoma|BCL2 associated a...|         BAD|           0.14202429303473144|         0.14202429303473144|\n",
      "|EFO_0000305|ENSG00000002549|breast carcinoma|leucine aminopept...|        LAP3|                         0.006|                       0.006|\n",
      "|EFO_0000305|ENSG00000002586|breast carcinoma|CD99 molecule (Xg...|        CD99|          0.038321493698867566|         0.03832149369886757|\n",
      "|EFO_0000305|ENSG00000002726|breast carcinoma|amine oxidase cop...|        AOC1|                         0.006|                       0.006|\n",
      "|EFO_0000305|ENSG00000002822|breast carcinoma|mitotic arrest de...|      MAD1L1|           0.16920000000000002|         0.16920000000000002|\n",
      "|EFO_0000305|ENSG00000002834|breast carcinoma|LIM and SH3 prote...|       LASP1|            0.4555824634655532|          0.4111164926931107|\n",
      "|EFO_0000305|ENSG00000003096|breast carcinoma|kelch like family...|      KLHL13|           0.05858948518979791|        0.059291262683683385|\n",
      "|EFO_0000305|ENSG00000003400|breast carcinoma|          caspase 10|      CASP10|          0.026000000000000002|        0.026000000000000002|\n",
      "|EFO_0000305|ENSG00000003402|breast carcinoma|CASP8 and FADD li...|       CFLAR|                        0.4554|         0.44068000000000007|\n",
      "|EFO_0000305|ENSG00000003436|breast carcinoma|tissue factor pat...|        TFPI|          0.026785228727661037|        0.026785228727661037|\n",
      "|EFO_0000305|ENSG00000003756|breast carcinoma|RNA binding motif...|        RBM5|           0.05248070519071625|         0.05248070519071625|\n",
      "+-----------+---------------+----------------+--------------------+------------+------------------------------+----------------------------+\n",
      "only showing top 20 rows\n",
      "\n"
     ]
    }
   ],
   "source": [
    "# establish spark connection\n",
    "spark = (\n",
    "    SparkSession.builder\n",
    "    .master('local[*]')\n",
    "    .getOrCreate()\n",
    ")\n",
    "\n",
    "# read evidence dataset\n",
    "evd = spark.read.parquet(evidencePath)\n",
    "\n",
    "# Browse the evidence schema\n",
    "evd.printSchema()\n",
    "\n",
    "# select fields of interest\n",
    "evdSelect = (evd).select(['diseaseId', 'targetId', 'diseaseLabel',\n",
    "                          'targetName', 'targetSymbol', 'overallDatasourceHarmonicScore', 'overallDatatypeHarmonicScore'])\n",
    "\n",
    "\n",
    "evdSelect.show()\n"
   ]
  },
  {
   "cell_type": "code",
   "execution_count": 5,
   "id": "349cb372-d7f4-4471-8dcc-bbdf78a8dfa0",
   "metadata": {},
   "outputs": [
    {
     "name": "stderr",
     "output_type": "stream",
     "text": [
      "                                                                                \r"
     ]
    },
    {
     "data": {
      "text/html": [
       "<div>\n",
       "<style scoped>\n",
       "    .dataframe tbody tr th:only-of-type {\n",
       "        vertical-align: middle;\n",
       "    }\n",
       "\n",
       "    .dataframe tbody tr th {\n",
       "        vertical-align: top;\n",
       "    }\n",
       "\n",
       "    .dataframe thead th {\n",
       "        text-align: right;\n",
       "    }\n",
       "</style>\n",
       "<table border=\"1\" class=\"dataframe\">\n",
       "  <thead>\n",
       "    <tr style=\"text-align: right;\">\n",
       "      <th></th>\n",
       "      <th>diseaseId</th>\n",
       "      <th>targetId</th>\n",
       "      <th>diseaseLabel</th>\n",
       "      <th>targetName</th>\n",
       "      <th>targetSymbol</th>\n",
       "      <th>overallDatasourceHarmonicScore</th>\n",
       "      <th>overallDatatypeHarmonicScore</th>\n",
       "    </tr>\n",
       "  </thead>\n",
       "  <tbody>\n",
       "    <tr>\n",
       "      <th>0</th>\n",
       "      <td>EFO_0000305</td>\n",
       "      <td>ENSG00000000003</td>\n",
       "      <td>breast carcinoma</td>\n",
       "      <td>tetraspanin 6</td>\n",
       "      <td>TSPAN6</td>\n",
       "      <td>0.017417</td>\n",
       "      <td>0.017417</td>\n",
       "    </tr>\n",
       "    <tr>\n",
       "      <th>1</th>\n",
       "      <td>EFO_0000305</td>\n",
       "      <td>ENSG00000000005</td>\n",
       "      <td>breast carcinoma</td>\n",
       "      <td>tenomodulin</td>\n",
       "      <td>TNMD</td>\n",
       "      <td>0.025026</td>\n",
       "      <td>0.025026</td>\n",
       "    </tr>\n",
       "    <tr>\n",
       "      <th>2</th>\n",
       "      <td>EFO_0000305</td>\n",
       "      <td>ENSG00000000971</td>\n",
       "      <td>breast carcinoma</td>\n",
       "      <td>complement factor H</td>\n",
       "      <td>CFH</td>\n",
       "      <td>0.025515</td>\n",
       "      <td>0.025515</td>\n",
       "    </tr>\n",
       "    <tr>\n",
       "      <th>3</th>\n",
       "      <td>EFO_0000305</td>\n",
       "      <td>ENSG00000001084</td>\n",
       "      <td>breast carcinoma</td>\n",
       "      <td>glutamate-cysteine ligase catalytic subunit</td>\n",
       "      <td>GCLC</td>\n",
       "      <td>0.022156</td>\n",
       "      <td>0.022156</td>\n",
       "    </tr>\n",
       "    <tr>\n",
       "      <th>4</th>\n",
       "      <td>EFO_0000305</td>\n",
       "      <td>ENSG00000001167</td>\n",
       "      <td>breast carcinoma</td>\n",
       "      <td>nuclear transcription factor Y subunit alpha</td>\n",
       "      <td>NFYA</td>\n",
       "      <td>0.004000</td>\n",
       "      <td>0.004000</td>\n",
       "    </tr>\n",
       "  </tbody>\n",
       "</table>\n",
       "</div>"
      ],
      "text/plain": [
       "     diseaseId         targetId      diseaseLabel  \\\n",
       "0  EFO_0000305  ENSG00000000003  breast carcinoma   \n",
       "1  EFO_0000305  ENSG00000000005  breast carcinoma   \n",
       "2  EFO_0000305  ENSG00000000971  breast carcinoma   \n",
       "3  EFO_0000305  ENSG00000001084  breast carcinoma   \n",
       "4  EFO_0000305  ENSG00000001167  breast carcinoma   \n",
       "\n",
       "                                     targetName targetSymbol  \\\n",
       "0                                 tetraspanin 6       TSPAN6   \n",
       "1                                   tenomodulin         TNMD   \n",
       "2                           complement factor H          CFH   \n",
       "3   glutamate-cysteine ligase catalytic subunit         GCLC   \n",
       "4  nuclear transcription factor Y subunit alpha         NFYA   \n",
       "\n",
       "   overallDatasourceHarmonicScore  overallDatatypeHarmonicScore  \n",
       "0                        0.017417                      0.017417  \n",
       "1                        0.025026                      0.025026  \n",
       "2                        0.025515                      0.025515  \n",
       "3                        0.022156                      0.022156  \n",
       "4                        0.004000                      0.004000  "
      ]
     },
     "execution_count": 5,
     "metadata": {},
     "output_type": "execute_result"
    }
   ],
   "source": [
    "dbscores = evdSelect.toPandas()\n",
    "dbscores.head()"
   ]
  },
  {
   "cell_type": "markdown",
   "id": "203a6647",
   "metadata": {},
   "source": [
    "Derive the list of targets that are associated with more than 3 diseases"
   ]
  },
  {
   "cell_type": "code",
   "execution_count": 6,
   "id": "3169fc04-467d-44d7-a77b-f4b56c002b25",
   "metadata": {},
   "outputs": [],
   "source": [
    "genes_more_than_3 = pd.DataFrame(dbscores.groupby('targetId')['diseaseId'].size()[dbscores.groupby('targetId')['diseaseId'].size() > 3])"
   ]
  },
  {
   "cell_type": "code",
   "execution_count": 7,
   "id": "a193e685-3266-40fb-96d9-6359d8e03364",
   "metadata": {},
   "outputs": [],
   "source": [
    "subset = dbscores[dbscores.targetId.isin(genes_more_than_3.index.tolist())]"
   ]
  },
  {
   "cell_type": "code",
   "execution_count": 8,
   "id": "24fe34d9-5e00-4966-ae65-5d77d6255c62",
   "metadata": {},
   "outputs": [
    {
     "name": "stdout",
     "output_type": "stream",
     "text": [
      "21345\n"
     ]
    }
   ],
   "source": [
    "genes_more_than3_final = subset[['targetId', 'targetSymbol', 'targetName']].drop_duplicates()\n",
    "print(len(genes_more_than3_final))\n",
    "\n",
    "genes_more_than3_final.to_csv(pd_path(\"genes_more_than_3_diseases.csv\"))"
   ]
  },
  {
   "cell_type": "markdown",
   "id": "2ac6c632-98b4-4450-923f-6ab62abc36fa",
   "metadata": {},
   "source": [
    "# Neuro control genes: Intersection nervous system - PD - neurodegenerative"
   ]
  },
  {
   "cell_type": "code",
   "execution_count": 9,
   "id": "8d5ce184-c14c-4190-a910-7791b45f5203",
   "metadata": {},
   "outputs": [],
   "source": [
    "nervous = pd.read_csv(\n",
    "    pd_path(\"3-OT-EFO_0000618-nervous_system_disorders.tsv\"), sep=\"\\t\"\n",
    ")\n",
    "neurodegenerative = pd.read_csv(\n",
    "    pd_path(\"4-OT-EFO_0005772-neurodegenerative_disorders.tsv\"), sep=\"\\t\"\n",
    ")\n",
    "park = pd.read_csv(pd_path(\"4-OT-MONDO_0021095-parkinsonian.tsv\"), sep=\"\\t\")"
   ]
  },
  {
   "cell_type": "code",
   "execution_count": 10,
   "id": "02305ea5-ae74-4620-931e-4cda51c6f59c",
   "metadata": {},
   "outputs": [
    {
     "name": "stdout",
     "output_type": "stream",
     "text": [
      "5168\n"
     ]
    }
   ],
   "source": [
    "neuro_control = pd.Series(list(set(nervous.symbol) - set(neurodegenerative.symbol) - set(park.symbol)))\n",
    "print(len(neuro_control))\n",
    "neuro_control.to_csv(pd_path('NervousSystem-Neurodegenerative-PD.csv'))"
   ]
  },
  {
   "cell_type": "markdown",
   "id": "109c938b-b6b6-4e84-b2ec-1fb9e03c3dae",
   "metadata": {},
   "source": [
    "# Derive list of genes expressed in brain tissues"
   ]
  },
  {
   "cell_type": "code",
   "execution_count": 11,
   "id": "17f1a989-8993-477e-9d19-4c3d66bf844d",
   "metadata": {},
   "outputs": [
    {
     "name": "stderr",
     "output_type": "stream",
     "text": [
      "/n/home08/rcalef/sandbox/repos/ProCyon/.venv/lib/python3.11/site-packages/cmapPy/pandasGEXpress/parse_gct.py:251: FutureWarning: errors='ignore' is deprecated and will raise in a future version. Use to_numeric without passing `errors` and catch exceptions explicitly instead\n",
      "  row_metadata = row_metadata.apply(lambda x: pd.to_numeric(x, errors=\"ignore\"))\n",
      "/n/home08/rcalef/sandbox/repos/ProCyon/.venv/lib/python3.11/site-packages/cmapPy/pandasGEXpress/parse_gct.py:277: FutureWarning: errors='ignore' is deprecated and will raise in a future version. Use to_numeric without passing `errors` and catch exceptions explicitly instead\n",
      "  col_metadata = col_metadata.apply(lambda x: pd.to_numeric(x, errors=\"ignore\"))\n"
     ]
    },
    {
     "data": {
      "text/plain": [
       "56200"
      ]
     },
     "execution_count": 11,
     "metadata": {},
     "output_type": "execute_result"
    }
   ],
   "source": [
    "tissue_expr = parse(pd_path(\"GTEx_Analysis_2017-06-05_v8_RNASeQCv1.1.9_gene_median_tpm.gct\"))\n",
    "tissue_expr_pd = tissue_expr.data_df.copy()\n",
    "tissue_expr_pd.index = tissue_expr.row_metadata_df[\"Description\"]\n",
    "\n",
    "# Set as NAN the genes that have an expression of 0 across the different brain regions\n",
    "tissue_expr_pd = (\n",
    "    tissue_expr_pd\n",
    "    .loc[:, tissue_expr_pd.columns.str.startswith(\"Brain\")]\n",
    "    .replace(0, np.nan)\n",
    ")\n",
    "len(tissue_expr_pd)"
   ]
  },
  {
   "cell_type": "code",
   "execution_count": 12,
   "id": "74a89b83-51d6-46b3-aa1f-0d279aedc854",
   "metadata": {},
   "outputs": [
    {
     "data": {
      "text/plain": [
       "33761"
      ]
     },
     "execution_count": 12,
     "metadata": {},
     "output_type": "execute_result"
    }
   ],
   "source": [
    "# Remove the rows that have NAN across all brain regions - meaning they have no expression in the brain\n",
    "expressed_in_brains = tissue_expr_pd.dropna(how=\"all\")\n",
    "len(expressed_in_brains)"
   ]
  },
  {
   "cell_type": "code",
   "execution_count": 13,
   "id": "fa5b148e",
   "metadata": {},
   "outputs": [
    {
     "data": {
      "text/html": [
       "<div>\n",
       "<style scoped>\n",
       "    .dataframe tbody tr th:only-of-type {\n",
       "        vertical-align: middle;\n",
       "    }\n",
       "\n",
       "    .dataframe tbody tr th {\n",
       "        vertical-align: top;\n",
       "    }\n",
       "\n",
       "    .dataframe thead th {\n",
       "        text-align: right;\n",
       "    }\n",
       "</style>\n",
       "<table border=\"1\" class=\"dataframe\">\n",
       "  <thead>\n",
       "    <tr style=\"text-align: right;\">\n",
       "      <th>cid</th>\n",
       "      <th>Brain - Amygdala</th>\n",
       "      <th>Brain - Anterior cingulate cortex (BA24)</th>\n",
       "      <th>Brain - Caudate (basal ganglia)</th>\n",
       "      <th>Brain - Cerebellar Hemisphere</th>\n",
       "      <th>Brain - Cerebellum</th>\n",
       "      <th>Brain - Cortex</th>\n",
       "      <th>Brain - Frontal Cortex (BA9)</th>\n",
       "      <th>Brain - Hippocampus</th>\n",
       "      <th>Brain - Hypothalamus</th>\n",
       "      <th>Brain - Nucleus accumbens (basal ganglia)</th>\n",
       "      <th>Brain - Putamen (basal ganglia)</th>\n",
       "      <th>Brain - Spinal cord (cervical c-1)</th>\n",
       "      <th>Brain - Substantia nigra</th>\n",
       "    </tr>\n",
       "    <tr>\n",
       "      <th>Description</th>\n",
       "      <th></th>\n",
       "      <th></th>\n",
       "      <th></th>\n",
       "      <th></th>\n",
       "      <th></th>\n",
       "      <th></th>\n",
       "      <th></th>\n",
       "      <th></th>\n",
       "      <th></th>\n",
       "      <th></th>\n",
       "      <th></th>\n",
       "      <th></th>\n",
       "      <th></th>\n",
       "    </tr>\n",
       "  </thead>\n",
       "  <tbody>\n",
       "    <tr>\n",
       "      <th>WASH7P</th>\n",
       "      <td>1.438590</td>\n",
       "      <td>1.692850</td>\n",
       "      <td>1.566050</td>\n",
       "      <td>4.992310</td>\n",
       "      <td>5.720990</td>\n",
       "      <td>2.483170</td>\n",
       "      <td>2.146670</td>\n",
       "      <td>1.685990</td>\n",
       "      <td>1.748110</td>\n",
       "      <td>1.538990</td>\n",
       "      <td>1.441670</td>\n",
       "      <td>2.730490</td>\n",
       "      <td>1.741940</td>\n",
       "    </tr>\n",
       "    <tr>\n",
       "      <th>MIR1302-2HG</th>\n",
       "      <td>NaN</td>\n",
       "      <td>NaN</td>\n",
       "      <td>0.024264</td>\n",
       "      <td>NaN</td>\n",
       "      <td>NaN</td>\n",
       "      <td>0.027366</td>\n",
       "      <td>0.030382</td>\n",
       "      <td>NaN</td>\n",
       "      <td>0.024714</td>\n",
       "      <td>0.030669</td>\n",
       "      <td>0.023474</td>\n",
       "      <td>NaN</td>\n",
       "      <td>0.019526</td>\n",
       "    </tr>\n",
       "    <tr>\n",
       "      <th>OR4G4P</th>\n",
       "      <td>0.049672</td>\n",
       "      <td>0.053535</td>\n",
       "      <td>0.045572</td>\n",
       "      <td>0.024643</td>\n",
       "      <td>0.037224</td>\n",
       "      <td>0.042985</td>\n",
       "      <td>0.042143</td>\n",
       "      <td>0.052914</td>\n",
       "      <td>0.039666</td>\n",
       "      <td>0.044513</td>\n",
       "      <td>0.048495</td>\n",
       "      <td>0.041605</td>\n",
       "      <td>0.046699</td>\n",
       "    </tr>\n",
       "    <tr>\n",
       "      <th>OR4G11P</th>\n",
       "      <td>0.063831</td>\n",
       "      <td>0.067951</td>\n",
       "      <td>0.072035</td>\n",
       "      <td>0.046864</td>\n",
       "      <td>0.049956</td>\n",
       "      <td>0.070455</td>\n",
       "      <td>0.073162</td>\n",
       "      <td>0.077502</td>\n",
       "      <td>0.063979</td>\n",
       "      <td>0.059297</td>\n",
       "      <td>0.064973</td>\n",
       "      <td>0.057124</td>\n",
       "      <td>0.066460</td>\n",
       "    </tr>\n",
       "    <tr>\n",
       "      <th>OR4F5</th>\n",
       "      <td>0.078869</td>\n",
       "      <td>0.076721</td>\n",
       "      <td>0.082673</td>\n",
       "      <td>0.059860</td>\n",
       "      <td>0.057719</td>\n",
       "      <td>0.084365</td>\n",
       "      <td>0.074008</td>\n",
       "      <td>0.103119</td>\n",
       "      <td>0.083142</td>\n",
       "      <td>0.081478</td>\n",
       "      <td>0.098499</td>\n",
       "      <td>0.070749</td>\n",
       "      <td>0.073194</td>\n",
       "    </tr>\n",
       "  </tbody>\n",
       "</table>\n",
       "</div>"
      ],
      "text/plain": [
       "cid          Brain - Amygdala  Brain - Anterior cingulate cortex (BA24)  \\\n",
       "Description                                                               \n",
       "WASH7P               1.438590                                  1.692850   \n",
       "MIR1302-2HG               NaN                                       NaN   \n",
       "OR4G4P               0.049672                                  0.053535   \n",
       "OR4G11P              0.063831                                  0.067951   \n",
       "OR4F5                0.078869                                  0.076721   \n",
       "\n",
       "cid          Brain - Caudate (basal ganglia)  Brain - Cerebellar Hemisphere  \\\n",
       "Description                                                                   \n",
       "WASH7P                              1.566050                       4.992310   \n",
       "MIR1302-2HG                         0.024264                            NaN   \n",
       "OR4G4P                              0.045572                       0.024643   \n",
       "OR4G11P                             0.072035                       0.046864   \n",
       "OR4F5                               0.082673                       0.059860   \n",
       "\n",
       "cid          Brain - Cerebellum  Brain - Cortex  Brain - Frontal Cortex (BA9)  \\\n",
       "Description                                                                     \n",
       "WASH7P                 5.720990        2.483170                      2.146670   \n",
       "MIR1302-2HG                 NaN        0.027366                      0.030382   \n",
       "OR4G4P                 0.037224        0.042985                      0.042143   \n",
       "OR4G11P                0.049956        0.070455                      0.073162   \n",
       "OR4F5                  0.057719        0.084365                      0.074008   \n",
       "\n",
       "cid          Brain - Hippocampus  Brain - Hypothalamus  \\\n",
       "Description                                              \n",
       "WASH7P                  1.685990              1.748110   \n",
       "MIR1302-2HG                  NaN              0.024714   \n",
       "OR4G4P                  0.052914              0.039666   \n",
       "OR4G11P                 0.077502              0.063979   \n",
       "OR4F5                   0.103119              0.083142   \n",
       "\n",
       "cid          Brain - Nucleus accumbens (basal ganglia)  \\\n",
       "Description                                              \n",
       "WASH7P                                        1.538990   \n",
       "MIR1302-2HG                                   0.030669   \n",
       "OR4G4P                                        0.044513   \n",
       "OR4G11P                                       0.059297   \n",
       "OR4F5                                         0.081478   \n",
       "\n",
       "cid          Brain - Putamen (basal ganglia)  \\\n",
       "Description                                    \n",
       "WASH7P                              1.441670   \n",
       "MIR1302-2HG                         0.023474   \n",
       "OR4G4P                              0.048495   \n",
       "OR4G11P                             0.064973   \n",
       "OR4F5                               0.098499   \n",
       "\n",
       "cid          Brain - Spinal cord (cervical c-1)  Brain - Substantia nigra  \n",
       "Description                                                                \n",
       "WASH7P                                 2.730490                  1.741940  \n",
       "MIR1302-2HG                                 NaN                  0.019526  \n",
       "OR4G4P                                 0.041605                  0.046699  \n",
       "OR4G11P                                0.057124                  0.066460  \n",
       "OR4F5                                  0.070749                  0.073194  "
      ]
     },
     "execution_count": 13,
     "metadata": {},
     "output_type": "execute_result"
    }
   ],
   "source": [
    "expressed_in_brains.head()"
   ]
  },
  {
   "cell_type": "code",
   "execution_count": 14,
   "id": "510eec9e-ebe9-4c1d-8471-635569aa56a2",
   "metadata": {},
   "outputs": [],
   "source": [
    "expressed_in_brains.to_csv(pd_path('1-genes_expressed_in_brains.csv'))"
   ]
  },
  {
   "cell_type": "markdown",
   "id": "03c12532-72db-4aab-90c8-c32385857b2a",
   "metadata": {},
   "source": [
    "# General control genes: Intersection genes expressed in more than 3 diseases - genes expressed in brain tissues"
   ]
  },
  {
   "cell_type": "code",
   "execution_count": 15,
   "id": "4f3da2d9-810c-4b24-8c81-de97e93de494",
   "metadata": {},
   "outputs": [
    {
     "name": "stdout",
     "output_type": "stream",
     "text": [
      "3379\n"
     ]
    }
   ],
   "source": [
    "general_control = pd.Series(list(set(genes_more_than3_final.targetSymbol) - set(expressed_in_brains.index)))\n",
    "print(len(general_control))\n",
    "general_control.to_csv(pd_path('Expressed3Diseases-neuraltissue.csv'))"
   ]
  }
 ],
 "metadata": {
  "kernelspec": {
   "display_name": "Python 3 (ipykernel)",
   "language": "python",
   "name": "python3"
  },
  "language_info": {
   "codemirror_mode": {
    "name": "ipython",
    "version": 3
   },
   "file_extension": ".py",
   "mimetype": "text/x-python",
   "name": "python",
   "nbconvert_exporter": "python",
   "pygments_lexer": "ipython3",
   "version": "3.11.9"
  }
 },
 "nbformat": 4,
 "nbformat_minor": 5
}
