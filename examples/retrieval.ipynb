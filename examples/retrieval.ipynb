{
 "cells": [
  {
   "cell_type": "code",
   "execution_count": 1,
   "id": "7e5f3285",
   "metadata": {},
   "outputs": [],
   "source": [
    "%load_ext autoreload\n",
    "%autoreload 2"
   ]
  },
  {
   "cell_type": "code",
   "execution_count": 2,
   "id": "a4fac5ae-2598-4f24-92e5-5cae8604556f",
   "metadata": {},
   "outputs": [
    {
     "name": "stdout",
     "output_type": "stream",
     "text": [
      "[2024-12-10 14:51:50,797] [INFO] [real_accelerator.py:203:get_accelerator] Setting ds_accelerator to cuda (auto detect)\n",
      "Warning: The default cache directory for DeepSpeed Triton autotune, /n/home08/rcalef/.triton/autotune, appears to be on an NFS system. While this is generally acceptable, if you experience slowdowns or hanging when DeepSpeed exits, it is recommended to set the TRITON_CACHE_DIR environment variable to a non-NFS path.\n"
     ]
    },
    {
     "name": "stderr",
     "output_type": "stream",
     "text": [
      "/n/home08/rcalef/.conda/envs/txplm_esm3/compiler_compat/ld: cannot find -laio: No such file or directory\n",
      "collect2: error: ld returned 1 exit status\n"
     ]
    },
    {
     "name": "stdout",
     "output_type": "stream",
     "text": [
      "\u001b[93m [WARNING] \u001b[0m async_io requires the dev libaio .so object and headers but these were not found.\n",
      "\u001b[93m [WARNING] \u001b[0m If libaio is already installed (perhaps from source), try setting the CFLAGS and LDFLAGS environment variables to where it can be found.\n",
      "\u001b[93m [WARNING] \u001b[0m Please specify the CUTLASS repo directory as environment variable $CUTLASS_PATH\n",
      "\u001b[93m [WARNING] \u001b[0m sparse_attn requires a torch version >= 1.5 and < 2.0 but detected 2.3\n",
      "\u001b[93m [WARNING] \u001b[0m using untested triton version (2.3.0), only 1.0.0 is known to be compatible\n"
     ]
    }
   ],
   "source": [
    "import os\n",
    "import math\n",
    "\n",
    "from typing import Dict, Optional, Tuple\n",
    "\n",
    "import matplotlib\n",
    "import matplotlib.pyplot as plt\n",
    "import numpy as np\n",
    "import pandas as pd\n",
    "import seaborn as sns\n",
    "import torch\n",
    "\n",
    "from scipy import stats\n",
    "from tqdm import trange\n",
    "\n",
    "from procyon.data.data_utils import DATA_DIR\n",
    "from procyon.data.inference_utils import create_input_retrieval, get_proteins_from_embedding\n",
    "from procyon.evaluate.framework.utils import move_inputs_to_device\n",
    "from procyon.model.model_unified import UnifiedProCyon"
   ]
  },
  {
   "cell_type": "markdown",
   "id": "14fccae2",
   "metadata": {},
   "source": [
    "This notebook contains a minimal example of using a pre-trainced ProCyon model to perform a cross-knowledge domain protein retrieval query, as shown in Figure 5F of the main manuscript."
   ]
  },
  {
   "cell_type": "markdown",
   "id": "cbc796da",
   "metadata": {},
   "source": [
    "# Load pre-trained model"
   ]
  },
  {
   "cell_type": "code",
   "execution_count": 3,
   "id": "286f4d57",
   "metadata": {},
   "outputs": [],
   "source": [
    "# Replace with the path where you downloaded a pre-trained ProCyon model (e.g. ProCyon-Full)\n",
    "checkpoint_path = \"~/storage/Lab/PLM/huggingface_repos/ProCyon-Full\"\n",
    "CKPT_NAME = os.path.expanduser(checkpoint_path)"
   ]
  },
  {
   "cell_type": "code",
   "execution_count": 4,
   "id": "588cdd61",
   "metadata": {},
   "outputs": [],
   "source": [
    "data_args = torch.load(os.path.join(CKPT_NAME, \"data_args.pt\"))\n",
    "train_args = torch.load(os.path.join(CKPT_NAME, \"training_args.pt\"))"
   ]
  },
  {
   "cell_type": "code",
   "execution_count": 5,
   "id": "7897f07c",
   "metadata": {},
   "outputs": [
    {
     "name": "stdout",
     "output_type": "stream",
     "text": [
      "updating model args DATA_DIR from /n/holystore01/LABS/mzitnik_lab/Lab/PLM -> /n/holylfs06/LABS/mzitnik_lab/Lab/PLM/huggingface_repos/ProCyon-Instruct\n",
      "updating stale DATA_DIR for model arg: go_embeddings_path\n",
      "updating stale DATA_DIR for model arg: pfam_embeddings_path\n",
      "updating stale DATA_DIR for model arg: drugbank_embeddings_path\n",
      "updating stale DATA_DIR for model arg: reactome_embeddings_path\n",
      "updating stale DATA_DIR for model arg: omim_embeddings_path\n",
      "updating stale DATA_DIR for model arg: ec_embeddings_path\n",
      "updating stale DATA_DIR for model arg: protein_seq_embeddings_path\n",
      "updating stale DATA_DIR for model arg: protein_struct_embeddings_path\n",
      "updating stale DATA_DIR for model arg: protein_embeddings_idmap_path\n",
      "updating stale DATA_DIR for model arg: drug_struct_embeddings_path\n",
      "updating stale DATA_DIR for model arg: domain_embeddings_path\n",
      "updating stale DATA_DIR for model arg: domain_embeddings_idmap_path\n",
      "updating stale DATA_DIR for model arg: mouse_ortholog_embeddings_path\n",
      "updating stale DATA_DIR for model arg: mouse_ortholog_embeddings_idmap_path\n"
     ]
    },
    {
     "name": "stderr",
     "output_type": "stream",
     "text": [
      "/n/home08/rcalef/.conda/envs/txplm_esm3/lib/python3.11/site-packages/huggingface_hub/file_download.py:1132: FutureWarning: `resume_download` is deprecated and will be removed in version 1.0.0. Downloads always resume when possible. If you want to force a new download, use `force_download=True`.\n",
      "  warnings.warn(\n"
     ]
    },
    {
     "data": {
      "application/vnd.jupyter.widget-view+json": {
       "model_id": "54b9f1007d7447a991574dcd3d7fb5fa",
       "version_major": 2,
       "version_minor": 0
      },
      "text/plain": [
       "Loading checkpoint shards:   0%|          | 0/4 [00:00<?, ?it/s]"
      ]
     },
     "metadata": {},
     "output_type": "display_data"
    },
    {
     "name": "stderr",
     "output_type": "stream",
     "text": [
      "Some weights of LlamaForCausalLM were not initialized from the model checkpoint at meta-llama/Meta-Llama-3-8B and are newly initialized: ['model.layers.17.self_attn.rotary_emb.inv_freq', 'model.layers.3.self_attn.rotary_emb.inv_freq', 'model.layers.4.self_attn.rotary_emb.inv_freq', 'model.layers.19.self_attn.rotary_emb.inv_freq', 'model.layers.28.self_attn.rotary_emb.inv_freq', 'model.layers.12.self_attn.rotary_emb.inv_freq', 'model.layers.22.self_attn.rotary_emb.inv_freq', 'model.layers.23.self_attn.rotary_emb.inv_freq', 'model.layers.9.self_attn.rotary_emb.inv_freq', 'model.layers.8.self_attn.rotary_emb.inv_freq', 'model.layers.5.self_attn.rotary_emb.inv_freq', 'model.layers.11.self_attn.rotary_emb.inv_freq', 'model.layers.24.self_attn.rotary_emb.inv_freq', 'model.layers.16.self_attn.rotary_emb.inv_freq', 'model.layers.2.self_attn.rotary_emb.inv_freq', 'model.layers.31.self_attn.rotary_emb.inv_freq', 'model.layers.15.self_attn.rotary_emb.inv_freq', 'model.layers.14.self_attn.rotary_emb.inv_freq', 'model.layers.13.self_attn.rotary_emb.inv_freq', 'model.layers.10.self_attn.rotary_emb.inv_freq', 'model.layers.6.self_attn.rotary_emb.inv_freq', 'model.layers.18.self_attn.rotary_emb.inv_freq', 'model.layers.20.self_attn.rotary_emb.inv_freq', 'model.layers.1.self_attn.rotary_emb.inv_freq', 'model.layers.27.self_attn.rotary_emb.inv_freq', 'model.layers.0.self_attn.rotary_emb.inv_freq', 'model.layers.29.self_attn.rotary_emb.inv_freq', 'model.layers.30.self_attn.rotary_emb.inv_freq', 'model.layers.25.self_attn.rotary_emb.inv_freq', 'model.layers.21.self_attn.rotary_emb.inv_freq', 'model.layers.26.self_attn.rotary_emb.inv_freq', 'model.layers.7.self_attn.rotary_emb.inv_freq']\n",
      "You should probably TRAIN this model on a down-stream task to be able to use it for predictions and inference.\n",
      "Using sep_token, but it is not set yet.\n",
      "Using pad_token, but it is not set yet.\n"
     ]
    },
    {
     "name": "stdout",
     "output_type": "stream",
     "text": [
      "Processing zero checkpoint '/n/home08/rcalef/storage/Lab/PLM/huggingface_repos/ProCyon-Full/global_step59469'\n",
      "Detected checkpoint of type zero stage ZeroStageEnum.gradients, world_size: 32\n",
      "Parsing checkpoint created by deepspeed==0.12.4\n",
      "Reconstructed fp32 state dict with 322 params 8141117441 elements\n"
     ]
    }
   ],
   "source": [
    "device = torch.device('cuda' if torch.cuda.is_available() else 'cpu')\n",
    "model, _ = UnifiedProCyon.from_pretrained(checkpoint_dir=CKPT_NAME)\n",
    "model.to(device)\n",
    "model.bfloat16() # Quantize the model to a smaller precision\n",
    "_ = model.eval()"
   ]
  },
  {
   "cell_type": "code",
   "execution_count": 6,
   "id": "6eee2f6a-543a-4a78-9d03-1c8546d2a363",
   "metadata": {},
   "outputs": [
    {
     "name": "stdout",
     "output_type": "stream",
     "text": [
      "torch.Size([18174, 2560])\n"
     ]
    }
   ],
   "source": [
    "# Load saved embeddings for this model\n",
    "all_protein_embeddings, all_protein_ids = torch.load(os.path.join(CKPT_NAME, \"protein_target_embeddings.pkl\"))\n",
    "all_protein_embeddings = all_protein_embeddings.float()\n",
    "print(all_protein_embeddings.shape)"
   ]
  },
  {
   "cell_type": "markdown",
   "id": "8d41ae11-95c7-41aa-80f8-28e17fa0520f",
   "metadata": {},
   "source": [
    "## Prepare inputs"
   ]
  },
  {
   "cell_type": "code",
   "execution_count": 7,
   "id": "c42d45d9-520a-4471-92de-b2c9b23bb7ab",
   "metadata": {},
   "outputs": [],
   "source": [
    "# Load DrugBank info, namely the mapping from DrugBank IDs to mechanism\n",
    "# of action descriptions and ProCyon-Instruct numeric IDs.\n",
    "drugbank_info = pd.read_pickle(os.path.join(\n",
    "    DATA_DIR,\n",
    "    \"integrated_data\",\n",
    "    \"v1\",\n",
    "    \"drugbank\",\n",
    "    \"drugbank_info_filtered_composed.pkl\",\n",
    "))\n",
    "db_map = {row[\"drugbank_id\"]: row['moa'] for _, row in drugbank_info.iterrows()}\n",
    "db_idx_map = {row[\"drugbank_id\"]: row['index'] for _, row in drugbank_info.iterrows()}"
   ]
  },
  {
   "cell_type": "code",
   "execution_count": 8,
   "id": "e1ebf89a",
   "metadata": {},
   "outputs": [],
   "source": [
    "# Now provide the high-level task definition, phrased similarly to the ones used in training.\n",
    "task_desc = \"\"\"\n",
    "You will be shown two texts: one describing a disease and one describing a drug.\n",
    "Your job is to determine the proteins that are a target of the drug described and are indicated for the disease described.\n",
    "A target of a drug is a protein that the drug binds to, resulting in an alteration of the normal function of the bound molecule and a desirable therapeutic effect. Drug targets are most commonly proteins such as enzymes, ion channels, and receptors.\n",
    "\"\"\"\n",
    "\n",
    "task_desc = task_desc.replace(\"\\n\", \" \")"
   ]
  },
  {
   "cell_type": "code",
   "execution_count": 9,
   "id": "3f165786-19d3-4be6-9e62-773beffe9e62",
   "metadata": {},
   "outputs": [],
   "source": [
    "# Next we set up the specific prompt contexts provided for retrieval using\n",
    "# bupropion and either depression or smoking cessation.\n",
    "\n",
    "# DrugBank ID for bupropion\n",
    "db_id = \"DB01156\"\n",
    "drug_desc = db_map[db_id]\n",
    "depression_desc = \"\"\"The pathophysiology of depression is not completely understood, but current theories center around monoaminergic systems, the circadian rhythm, immunological dysfunction, HPA-axis dysfunction and structural or functional abnormalities of emotional circuits.\n",
    "\n",
    "Derived from the effectiveness of monoaminergic drugs in treating depression, the monoamine theory posits that insufficient activity of monoamine neurotransmitters is the primary cause of depression. Evidence for the monoamine theory comes from multiple areas. First, acute depletion of tryptophan—a necessary precursor of serotonin and a monoamine—can cause depression in those in remission or relatives of people who are depressed, suggesting that decreased serotonergic neurotransmission is important in depression.[63] Second, the correlation between depression risk and polymorphisms in the 5-HTTLPR gene, which codes for serotonin receptors, suggests a link. Third, decreased size of the locus coeruleus, decreased activity of tyrosine hydroxylase, increased density of alpha-2 adrenergic receptor, and evidence from rat models suggest decreased adrenergic neurotransmission in depression.[64] Furthermore, decreased levels of homovanillic acid, altered response to dextroamphetamine, responses of depressive symptoms to dopamine receptor agonists, decreased dopamine receptor D1 binding in the striatum,[65] and polymorphism of dopamine receptor genes implicate dopamine, another monoamine, in depression.[66][67] Lastly, increased activity of monoamine oxidase, which degrades monoamines, has been associated with depression.[68] However, the monoamine theory is inconsistent with observations that serotonin depletion does not cause depression in healthy persons, that antidepressants instantly increase levels of monoamines but take weeks to work, and the existence of atypical antidepressants which can be effective despite not targeting this pathway.[69]\n",
    "\n",
    "One proposed explanation for the therapeutic lag, and further support for the deficiency of monoamines, is a desensitization of self-inhibition in raphe nuclei by the increased serotonin mediated by antidepressants.[70] However, disinhibition of the dorsal raphe has been proposed to occur as a result of decreased serotonergic activity in tryptophan depletion, resulting in a depressed state mediated by increased serotonin. Further countering the monoamine hypothesis is the fact that rats with lesions of the dorsal raphe are not more depressive than controls, the finding of increased jugular 5-HIAA in people who are depressed that normalized with selective serotonin reuptake inhibitor (SSRI) treatment, and the preference for carbohydrates in people who are depressed.[71] Already limited, the monoamine hypothesis has been further oversimplified when presented to the general public.[72] A 2022 review found no consistent evidence supporting the serotonin hypothesis, linking serotonin levels and depression.[73]\n",
    "\n",
    "HPA-axis abnormalities have been suggested in depression given the association of CRHR1 with depression and the increased frequency of dexamethasone test non-suppression in people who are depressed. However, this abnormality is not adequate as a diagnosis tool, because its sensitivity is only 44%.[74] These stress-related abnormalities are thought to be the cause of hippocampal volume reductions seen in people who are depressed.[75] Furthermore, a meta-analysis yielded decreased dexamethasone suppression, and increased response to psychological stressors.[76] Further abnormal results have been obscured with the cortisol awakening response, with increased response being associated with depression.[77]\n",
    "\n",
    "There is also a connection between the gut microbiome and the central nervous system, otherwise known as the Gut-Brain axis, which is a two-way communication system between the brain and the gut. Experiments have shown that microbiota in the gut can play an important role in depression as people with MDD often have gut-brain dysfunction. One analysis showed that those with MDD have different bacteria living in their guts. Bacteria Bacteroidetes and Firmicutes were most affected in people with MDD, and they are also impacted in people with Irritable Bowel Syndrome.[78] Another study showed that people with IBS have a higher chance of developing depression, which shows the two are connected.[79] There is even evidence suggesting that altering the microbes in the gut can have regulatory effects on developing depression. [78]\n",
    "\n",
    "Theories unifying neuroimaging findings have been proposed. The first model proposed is the limbic-cortical model, which involves hyperactivity of the ventral paralimbic regions and hypoactivity of frontal regulatory regions in emotional processing.[80] Another model, the cortico-striatal model, suggests that abnormalities of the prefrontal cortex in regulating striatal and subcortical structures result in depression.[81] Another model proposes hyperactivity of salience structures in identifying negative stimuli, and hypoactivity of cortical regulatory structures resulting in a negative emotional bias and depression, consistent with emotional bias studies.[82]\n",
    "\n",
    "Immune Pathogenesis Theories on Depression\n",
    "The newer field of psychoneuroimmunology, the study between the immune system and the nervous system and emotional state, suggests that cytokines may impact depression.\n",
    "\n",
    "Immune system abnormalities have been observed, including increased levels of cytokines -cells produced by immune cells that affect inflammation- involved in generating sickness behavior, creating a pro-inflammatory profile in MDD.[83][84][85] Some people with depression have increased levels of pro-inflammatory cytokines and some have decreased levels of anti-inflammatory cytokines.[86] Research suggests that treatments can reduce pro-inflammatory cell production, like the experimental treatment of ketamine with treatment-resistant depression.[87] With this, in MDD, people will more likely have a Th-1 dominant immune profile, which is a pro-inflammatory profile. This suggests that there are components of the immune system affecting the pathology of MDD. [88]\n",
    "\n",
    "Another way cytokines can affect depression is in the kynurenine pathway, and when this is overactivated, it can cause depression. This can be due to too much microglial activation and too little astrocytic activity. When microglia get activated, they release pro-inflammatory cytokines that cause an increase in the production of COX2. This, in turn, causes the production of PGE2, which is a prostaglandin, and this catalyzes the production of indolamine, IDO. IDO causes tryptophan to get converted into kynurenine and kynurenine becomes quinolinic acid.[89] Quinolinic acid is an agonist for NMDA receptors, so it activates the pathway. Studies have shown that the post-mortem brains of patients with MDD have higher levels of quinolinic acid than people who did not have MDD. With this, researchers have also seen that the concentration of quinolinic acid correlates to the severity of depressive symptoms.\"\"\"\n",
    "depression_prompt = \"Disease: {} Drug: {}\".format(depression_desc, drug_desc)\n",
    "\n",
    "smoking_desc = \"\"\"Smoking cessation: Nicotine is an amine found in tobacco and tobacco products. It is the addictive agent which confers a much lower risk than other elements of tobacco, but it is not completely benign. When tobacco smoke is inhaled, nicotine rapidly enters the bloodstream through the pulmonary circulation. Inhaled nicotine escapes the first pass intestinal and liver metabolism. Nicotine readily crosses the blood-brain barrier which then promptly diffuses into the brain tissue. The process is said to take only 2 to 8 seconds from the time of inhalation. Nicotine is a selective binder to nicotinic cholinergic receptors (nAChRs) in the brain and other tissues. The half-life of nicotine in the human body is estimated to be around 2 hours from the time of consumption.\n",
    "\n",
    "Brain imaging studies have demonstrated that nicotine acutely increases activity in the prefrontal cortex, thalamus, and visual system consistent with activation of corticobasal ganglia and thalamic brain circuits. Nicotine which stimulates nAChRs produces the release of neurotransmitters, predominantly dopamine but also norepinephrine, acetylcholine, serotonin, GABA, glutamate, and endorphins. These neurotransmitters cause the various responses and behaviors after nicotine intake. When there is repeated exposure to nicotine, tolerance develops to some of the physiological effects of nicotine. Nicotine is a sympathomimetic drug that causes the release of catecholamines and increases heart rate, cardiac contractility, constricts cutaneous and coronary blood vessels and increases blood pressure.\n",
    "\n",
    "Nicotine undergoes metabolism in the liver, primarily by the liver enzyme CYP2A6, and converts nicotine to cotinine. Cotinine is a metabolite that can be used as a marker for exposure to nicotine. There are broad individual and racial variations in the rate of nicotine metabolism due to genetic polymorphism in CYP2A6. Thus the metabolism of nicotine is faster in Caucasians than Asians and Africans. Sex hormones also significantly affect CYP2A6 activity, and females metabolize nicotine faster than males.[10][11]\"\"\"\n",
    "smoking_prompt = \"Disease: {} Drug: {}\".format(smoking_desc, drug_desc)"
   ]
  },
  {
   "cell_type": "code",
   "execution_count": 10,
   "id": "8a08b545-8de1-4807-a0ae-09aef07854b6",
   "metadata": {},
   "outputs": [
    {
     "data": {
      "text/html": [
       "<div>\n",
       "<style scoped>\n",
       "    .dataframe tbody tr th:only-of-type {\n",
       "        vertical-align: middle;\n",
       "    }\n",
       "\n",
       "    .dataframe tbody tr th {\n",
       "        vertical-align: top;\n",
       "    }\n",
       "\n",
       "    .dataframe thead th {\n",
       "        text-align: right;\n",
       "    }\n",
       "</style>\n",
       "<table border=\"1\" class=\"dataframe\">\n",
       "  <thead>\n",
       "    <tr style=\"text-align: right;\">\n",
       "      <th></th>\n",
       "      <th>uniprot_id</th>\n",
       "      <th>name</th>\n",
       "      <th>sim_score</th>\n",
       "    </tr>\n",
       "  </thead>\n",
       "  <tbody>\n",
       "    <tr>\n",
       "      <th>772</th>\n",
       "      <td>P27338</td>\n",
       "      <td>MAOB {ECO:0000312|HGNC:HGNC:6834}</td>\n",
       "      <td>0.653601</td>\n",
       "    </tr>\n",
       "    <tr>\n",
       "      <th>771</th>\n",
       "      <td>P21397</td>\n",
       "      <td>MAOA {ECO:0000312|HGNC:HGNC:6833}</td>\n",
       "      <td>0.644669</td>\n",
       "    </tr>\n",
       "    <tr>\n",
       "      <th>13831</th>\n",
       "      <td>P23975</td>\n",
       "      <td>SLC6A2</td>\n",
       "      <td>0.621354</td>\n",
       "    </tr>\n",
       "    <tr>\n",
       "      <th>13833</th>\n",
       "      <td>P31645</td>\n",
       "      <td>SLC6A4</td>\n",
       "      <td>0.620379</td>\n",
       "    </tr>\n",
       "    <tr>\n",
       "      <th>50</th>\n",
       "      <td>P34969</td>\n",
       "      <td>HTR7</td>\n",
       "      <td>0.615909</td>\n",
       "    </tr>\n",
       "    <tr>\n",
       "      <th>...</th>\n",
       "      <td>...</td>\n",
       "      <td>...</td>\n",
       "      <td>...</td>\n",
       "    </tr>\n",
       "    <tr>\n",
       "      <th>16906</th>\n",
       "      <td>Q6NVU6</td>\n",
       "      <td>UFSP1</td>\n",
       "      <td>-0.234963</td>\n",
       "    </tr>\n",
       "    <tr>\n",
       "      <th>16558</th>\n",
       "      <td>H0UI37</td>\n",
       "      <td>TSTD3</td>\n",
       "      <td>-0.252198</td>\n",
       "    </tr>\n",
       "    <tr>\n",
       "      <th>14779</th>\n",
       "      <td>Q537H7</td>\n",
       "      <td>SPATA45</td>\n",
       "      <td>-0.263313</td>\n",
       "    </tr>\n",
       "    <tr>\n",
       "      <th>9598</th>\n",
       "      <td>Q9H1M0</td>\n",
       "      <td>NUP62CL</td>\n",
       "      <td>-0.299168</td>\n",
       "    </tr>\n",
       "    <tr>\n",
       "      <th>645</th>\n",
       "      <td>O95626</td>\n",
       "      <td>ANP32D</td>\n",
       "      <td>-0.421804</td>\n",
       "    </tr>\n",
       "  </tbody>\n",
       "</table>\n",
       "<p>18174 rows × 3 columns</p>\n",
       "</div>"
      ],
      "text/plain": [
       "      uniprot_id                               name  sim_score\n",
       "772       P27338  MAOB {ECO:0000312|HGNC:HGNC:6834}   0.653601\n",
       "771       P21397  MAOA {ECO:0000312|HGNC:HGNC:6833}   0.644669\n",
       "13831     P23975                             SLC6A2   0.621354\n",
       "13833     P31645                             SLC6A4   0.620379\n",
       "50        P34969                               HTR7   0.615909\n",
       "...          ...                                ...        ...\n",
       "16906     Q6NVU6                              UFSP1  -0.234963\n",
       "16558     H0UI37                              TSTD3  -0.252198\n",
       "14779     Q537H7                            SPATA45  -0.263313\n",
       "9598      Q9H1M0                            NUP62CL  -0.299168\n",
       "645       O95626                             ANP32D  -0.421804\n",
       "\n",
       "[18174 rows x 3 columns]"
      ]
     },
     "execution_count": 10,
     "metadata": {},
     "output_type": "execute_result"
    }
   ],
   "source": [
    "input_simple = create_input_retrieval(\n",
    "    input_description=depression_prompt,\n",
    "    data_args=data_args,\n",
    "    drug_input_idx=db_idx_map[db_id],\n",
    "    task_definition=task_desc,\n",
    "    instruction_source_dataset=\"drugbank\",\n",
    "    instruction_source_relation=\"drug_target\",  # \"all\" - disgenet, omim, uniprot, reactome\n",
    "    aaseq_type=\"protein\",\n",
    "    icl_example_number=1,  # 0, 1, 2\n",
    ")\n",
    "\n",
    "input_simple = move_inputs_to_device(input_simple, device=device)\n",
    "with torch.no_grad():\n",
    "    model_out = model(\n",
    "        inputs=input_simple,\n",
    "        retrieval=True,\n",
    "        aaseq_type=\"protein\",\n",
    "    )\n",
    "df_dep = get_proteins_from_embedding(all_protein_embeddings, model_out, top_k=None)\n",
    "df_dep"
   ]
  },
  {
   "cell_type": "code",
   "execution_count": 11,
   "id": "8b41de1a",
   "metadata": {},
   "outputs": [
    {
     "data": {
      "text/html": [
       "<div>\n",
       "<style scoped>\n",
       "    .dataframe tbody tr th:only-of-type {\n",
       "        vertical-align: middle;\n",
       "    }\n",
       "\n",
       "    .dataframe tbody tr th {\n",
       "        vertical-align: top;\n",
       "    }\n",
       "\n",
       "    .dataframe thead th {\n",
       "        text-align: right;\n",
       "    }\n",
       "</style>\n",
       "<table border=\"1\" class=\"dataframe\">\n",
       "  <thead>\n",
       "    <tr style=\"text-align: right;\">\n",
       "      <th></th>\n",
       "      <th>uniprot_id</th>\n",
       "      <th>name</th>\n",
       "      <th>sim_score</th>\n",
       "    </tr>\n",
       "  </thead>\n",
       "  <tbody>\n",
       "    <tr>\n",
       "      <th>1820</th>\n",
       "      <td>P35219</td>\n",
       "      <td>CA8</td>\n",
       "      <td>0.639608</td>\n",
       "    </tr>\n",
       "    <tr>\n",
       "      <th>17108</th>\n",
       "      <td>Q05940</td>\n",
       "      <td>SLC18A2</td>\n",
       "      <td>0.639436</td>\n",
       "    </tr>\n",
       "    <tr>\n",
       "      <th>17107</th>\n",
       "      <td>P54219</td>\n",
       "      <td>SLC18A1</td>\n",
       "      <td>0.636136</td>\n",
       "    </tr>\n",
       "    <tr>\n",
       "      <th>13831</th>\n",
       "      <td>P23975</td>\n",
       "      <td>SLC6A2</td>\n",
       "      <td>0.631931</td>\n",
       "    </tr>\n",
       "    <tr>\n",
       "      <th>1813</th>\n",
       "      <td>P00918</td>\n",
       "      <td>CA2</td>\n",
       "      <td>0.626491</td>\n",
       "    </tr>\n",
       "    <tr>\n",
       "      <th>...</th>\n",
       "      <td>...</td>\n",
       "      <td>...</td>\n",
       "      <td>...</td>\n",
       "    </tr>\n",
       "    <tr>\n",
       "      <th>16906</th>\n",
       "      <td>Q6NVU6</td>\n",
       "      <td>UFSP1</td>\n",
       "      <td>-0.362784</td>\n",
       "    </tr>\n",
       "    <tr>\n",
       "      <th>9598</th>\n",
       "      <td>Q9H1M0</td>\n",
       "      <td>NUP62CL</td>\n",
       "      <td>-0.368279</td>\n",
       "    </tr>\n",
       "    <tr>\n",
       "      <th>5024</th>\n",
       "      <td>Q8N5W8</td>\n",
       "      <td>FAM24B</td>\n",
       "      <td>-0.418087</td>\n",
       "    </tr>\n",
       "    <tr>\n",
       "      <th>9938</th>\n",
       "      <td>P0CG21</td>\n",
       "      <td>NHLRC4</td>\n",
       "      <td>-0.439824</td>\n",
       "    </tr>\n",
       "    <tr>\n",
       "      <th>645</th>\n",
       "      <td>O95626</td>\n",
       "      <td>ANP32D</td>\n",
       "      <td>-0.469895</td>\n",
       "    </tr>\n",
       "  </tbody>\n",
       "</table>\n",
       "<p>18174 rows × 3 columns</p>\n",
       "</div>"
      ],
      "text/plain": [
       "      uniprot_id     name  sim_score\n",
       "1820      P35219      CA8   0.639608\n",
       "17108     Q05940  SLC18A2   0.639436\n",
       "17107     P54219  SLC18A1   0.636136\n",
       "13831     P23975   SLC6A2   0.631931\n",
       "1813      P00918      CA2   0.626491\n",
       "...          ...      ...        ...\n",
       "16906     Q6NVU6    UFSP1  -0.362784\n",
       "9598      Q9H1M0  NUP62CL  -0.368279\n",
       "5024      Q8N5W8   FAM24B  -0.418087\n",
       "9938      P0CG21   NHLRC4  -0.439824\n",
       "645       O95626   ANP32D  -0.469895\n",
       "\n",
       "[18174 rows x 3 columns]"
      ]
     },
     "execution_count": 11,
     "metadata": {},
     "output_type": "execute_result"
    }
   ],
   "source": [
    "input_simple = create_input_retrieval(\n",
    "    input_description=smoking_prompt,\n",
    "    data_args=data_args,\n",
    "    drug_input_idx=db_idx_map[db_id],\n",
    "    task_definition=task_desc,\n",
    "    instruction_source_dataset=\"drugbank\",\n",
    "    instruction_source_relation=\"drug_target\",  # \"all\" - disgenet, omim, uniprot, reactome\n",
    "    aaseq_type=\"protein\",\n",
    "    icl_example_number=0,  # 0, 1, 2\n",
    ")\n",
    "\n",
    "input_simple = move_inputs_to_device(input_simple, device=device)\n",
    "with torch.no_grad():\n",
    "    model_out = model(\n",
    "        inputs=input_simple,\n",
    "        retrieval=True,\n",
    "        aaseq_type=\"protein\",\n",
    "    )\n",
    "\n",
    "df_smoke = get_proteins_from_embedding(all_protein_embeddings, model_out, top_k=None)\n",
    "df_smoke"
   ]
  },
  {
   "cell_type": "code",
   "execution_count": 12,
   "id": "b21df9c8-27d6-4975-90e2-e6019fc8137f",
   "metadata": {},
   "outputs": [
    {
     "name": "stdout",
     "output_type": "stream",
     "text": [
      "NET: 99.98899526796522\n",
      "DAT: 99.97248816991306\n",
      "AChR: 99.86244084956532\n"
     ]
    }
   ],
   "source": [
    "proteins_of_interest = {\n",
    "    # Norepinephrine transporter, involved in treating major depressive disorder (MDD)\n",
    "    \"P23975\": \"NET\",\n",
    "    # Dopamine transporter, contributes to therapeutic mechanism of bupropion for both MDD and smoking cessation\n",
    "    \"Q01959\": \"DAT\",\n",
    "    # Cholinergic receptor nicotinic alpha 3 subunit, involved in treating smoking cessation\n",
    "    \"P32297\": \"AChR\",\n",
    "}\n",
    "for uid, gene_name in proteins_of_interest.items():\n",
    "    stat = stats.percentileofscore(\n",
    "        df_dep[\"sim_score\"], df_dep[\"sim_score\"].loc[(df_dep[\"uniprot_id\"] == uid)]\n",
    "    )[0]\n",
    "    print(\"{}: {}\".format(gene_name, stat))"
   ]
  },
  {
   "cell_type": "code",
   "execution_count": 13,
   "id": "9762c702-b321-4aa9-9656-bd1f560b4ce0",
   "metadata": {},
   "outputs": [
    {
     "name": "stdout",
     "output_type": "stream",
     "text": [
      "NET: 99.98349290194784\n",
      "DAT: 99.96148343787829\n",
      "AChR: 99.17464509739187\n"
     ]
    }
   ],
   "source": [
    "for uid, gene_name in proteins_of_interest.items():\n",
    "    stat = stats.percentileofscore(\n",
    "        df_smoke[\"sim_score\"],\n",
    "        df_smoke[\"sim_score\"].loc[(df_smoke[\"uniprot_id\"] == uid)],\n",
    "    )[0]\n",
    "    print(\"{}: {}\".format(gene_name, stat))"
   ]
  },
  {
   "cell_type": "markdown",
   "id": "98b6bb9b",
   "metadata": {},
   "source": [
    "## Score resampling via text perturbations"
   ]
  },
  {
   "cell_type": "markdown",
   "id": "227f351b",
   "metadata": {},
   "source": [
    "While you've now seen how to get retrieval scores, we'll also show how you can get some error bounds on retrieval scores by slightly perturbing the prompts."
   ]
  },
  {
   "cell_type": "code",
   "execution_count": 14,
   "id": "9c6b4dba",
   "metadata": {},
   "outputs": [],
   "source": [
    "# Convenience function wrapping the whole process we've seen so far.\n",
    "\n",
    "\n",
    "def ret_crosskd_query(disease_desc: str) -> Dict:\n",
    "    \"\"\"Run a single retrieval query.\"\"\"\n",
    "    desc = \"Disease: {} Drug: {}\".format(disease_desc, \"Bupropion\")\n",
    "    input_simple = create_input_retrieval(\n",
    "        input_description=desc,\n",
    "        data_args=data_args,\n",
    "        drug_input_idx=db_idx_map[db_id],\n",
    "        task_definition=task_desc,\n",
    "        instruction_source_dataset=\"drugbank\",\n",
    "        instruction_source_relation=\"drug_target\",\n",
    "        aaseq_type=\"protein\",\n",
    "        icl_example_number=0,  # 0, 1, 2\n",
    "    )\n",
    "\n",
    "    input_simple = move_inputs_to_device(input_simple, device=device)\n",
    "    with torch.no_grad():\n",
    "        model_out = model(\n",
    "            inputs=input_simple,\n",
    "            retrieval=True,\n",
    "            aaseq_type=\"protein\",\n",
    "        )\n",
    "\n",
    "    df = get_proteins_from_embedding(\n",
    "        all_protein_embeddings, model_out, top_k=None\n",
    "    ).reset_index()\n",
    "\n",
    "    outputs = {}\n",
    "    for uid in proteins_of_interest.keys():\n",
    "        stat = df[\"sim_score\"].loc[(df[\"uniprot_id\"] == uid)].index[0]\n",
    "        outputs[uid] = stat\n",
    "\n",
    "    return outputs\n",
    "\n",
    "\n",
    "def perturb_by_words(\n",
    "    sentence: str, generator: np.random.Generator, perturbation_pct: float = 0.1\n",
    ") -> str:\n",
    "    \"\"\"Generate perturbed description.\"\"\"\n",
    "    wordlist = sentence.split()\n",
    "    words_to_keep = set(\n",
    "        generator.choice(\n",
    "            np.arange(len(wordlist)),\n",
    "            size=math.floor((1 - perturbation_pct) * len(wordlist)),\n",
    "            replace=False,\n",
    "        )\n",
    "    )\n",
    "\n",
    "    new_wordlist = [w for i, w in enumerate(wordlist) if (i in words_to_keep)]\n",
    "\n",
    "    return \" \".join(new_wordlist)\n",
    "\n",
    "\n",
    "def desc_perturbation(\n",
    "    desc: str,\n",
    "    num_perturbations: int = 10,\n",
    "    perturbation_pct: float = 0.1,\n",
    "    seed: Optional[float] = None,\n",
    ") -> Dict:\n",
    "    \"\"\"Run many perturbations for a single original description.\"\"\"\n",
    "    generator = np.random.default_rng(seed)\n",
    "\n",
    "    all_perturbations_dict = {}\n",
    "    for i in trange(num_perturbations):\n",
    "        # Perturb desc:\n",
    "        new_desc = perturb_by_words(\n",
    "            desc, generator=generator, perturbation_pct=perturbation_pct\n",
    "        )\n",
    "        out_dict = ret_crosskd_query(new_desc)\n",
    "        all_perturbations_dict[f\"perturb_{i}\"] = out_dict\n",
    "\n",
    "    return all_perturbations_dict\n",
    "\n",
    "\n",
    "def calc_stats_from_perturbations(\n",
    "    perturb_scores: Dict,\n",
    ") -> Tuple[Dict]:\n",
    "    \"\"\"Calculate statistics from perturbed retrieval scores.\"\"\"\n",
    "    # Pool together and get error bars:\n",
    "    pooled = {k: [] for k in perturb_scores[\"perturb_0\"].keys()}\n",
    "    for _, v in perturb_scores.items():\n",
    "        for k in v.keys():\n",
    "            pooled[k].append(v[k])\n",
    "    # Calc stderr, mean:\n",
    "    means = {k: np.mean(v) for k, v in pooled.items()}\n",
    "    stderrs = {k: stats.sem(v) for k, v in pooled.items()}\n",
    "    return means, stderrs, pooled"
   ]
  },
  {
   "cell_type": "code",
   "execution_count": 15,
   "id": "5f575f48",
   "metadata": {},
   "outputs": [],
   "source": [
    "# Use descriptions here that emphasize pathophysiology, sourced from NCBI StatPearls\n",
    "mdd_desc = \"\"\"The underlying pathophysiology of major depressive disorder has not been clearly defined. Current evidence points to a complex interaction between neurotransmitter availability and receptor regulation and sensitivity underlying the affective symptoms.\n",
    "\n",
    "Clinical and preclinical trials suggest a disturbance in central nervous system serotonin (5-HT) activity as an important factor. Other neurotransmitters implicated include norepinephrine (NE), dopamine (DA), glutamate, and brain-derived neurotrophic factor (BDNF).\n",
    "\n",
    "The role of CNS 5-HT activity in the pathophysiology of major depressive disorder is suggested by the therapeutic efficacy of selective serotonin reuptake inhibitors (SSRIs). Research findings imply a role for neuronal receptor regulation, intracellular signaling, and gene expression over time, in addition to enhanced neurotransmitter availability.\n",
    "\n",
    "Seasonal affective disorder is a form of major depressive disorder that typically arises during the fall and winter and resolves during the spring and summer. Studies suggest that seasonal affective disorder is also mediated by alterations in CNS levels of 5-HT and appears to be triggered by alterations in circadian rhythm and sunlight exposure.\n",
    "\n",
    "Vascular lesions may contribute to depression by disrupting the neural networks involved in emotion regulation—in particular, frontostriatal pathways that link the dorsolateral prefrontal cortex, orbitofrontal cortex, anterior cingulate, and dorsal cingulate. Other components of limbic circuitry, in particular, the hippocampus and amygdala, have been implicated in depression..\"\"\"\n",
    "\n",
    "smoking_desc = \"\"\"Nicotine is an amine found in tobacco and tobacco products. It is the addictive agent which confers a much lower risk than other elements of tobacco, but it is not completely benign. When tobacco smoke is inhaled, nicotine rapidly enters the bloodstream through the pulmonary circulation. Inhaled nicotine escapes the first pass intestinal and liver metabolism. Nicotine readily crosses the blood-brain barrier which then promptly diffuses into the brain tissue. The process is said to take only 2 to 8 seconds from the time of inhalation. Nicotine is a selective binder to nicotinic cholinergic receptors (nAChRs) in the brain and other tissues. The half-life of nicotine in the human body is estimated to be around 2 hours from the time of consumption.\n",
    "\n",
    "Brain imaging studies have demonstrated that nicotine acutely increases activity in the prefrontal cortex, thalamus, and visual system consistent with activation of corticobasal ganglia and thalamic brain circuits. Nicotine which stimulates nAChRs produces the release of neurotransmitters, predominantly dopamine but also norepinephrine, acetylcholine, serotonin, GABA, glutamate, and endorphins. These neurotransmitters cause the various responses and behaviors after nicotine intake. When there is repeated exposure to nicotine, tolerance develops to some of the physiological effects of nicotine. Nicotine is a sympathomimetic drug that causes the release of catecholamines and increases heart rate, cardiac contractility, constricts cutaneous and coronary blood vessels and increases blood pressure.\n",
    "\n",
    "Nicotine undergoes metabolism in the liver, primarily by the liver enzyme CYP2A6, and converts nicotine to cotinine. Cotinine is a metabolite that can be used as a marker for exposure to nicotine. There are broad individual and racial variations in the rate of nicotine metabolism due to genetic polymorphism in CYP2A6. Thus the metabolism of nicotine is faster in Caucasians than Asians and Africans. Sex hormones also significantly affect CYP2A6 activity, and females metabolize nicotine faster than males.\"\"\""
   ]
  },
  {
   "cell_type": "code",
   "execution_count": 16,
   "id": "926048ec",
   "metadata": {},
   "outputs": [
    {
     "name": "stderr",
     "output_type": "stream",
     "text": [
      "100%|█| 20\n",
      "100%|█| 20\n"
     ]
    }
   ],
   "source": [
    "mdd_perturbed_scores = desc_perturbation(\n",
    "    mdd_desc, num_perturbations=20, perturbation_pct=0.1, seed=12345\n",
    ")\n",
    "smoking_perturbed_scores = desc_perturbation(\n",
    "    smoking_desc, num_perturbations=20, perturbation_pct=0.1, seed=12345\n",
    ")"
   ]
  },
  {
   "cell_type": "code",
   "execution_count": 17,
   "id": "ff2ed21e",
   "metadata": {},
   "outputs": [],
   "source": [
    "mdd_means, mdd_stderrs, mdd_ranks = calc_stats_from_perturbations(mdd_perturbed_scores)\n",
    "smoke_means, smoke_stderrs, smoke_ranks = calc_stats_from_perturbations(smoking_perturbed_scores)"
   ]
  },
  {
   "cell_type": "code",
   "execution_count": 18,
   "id": "5183131d",
   "metadata": {},
   "outputs": [],
   "source": [
    "results = []\n",
    "for up_id, name in proteins_of_interest.items():\n",
    "    results.append(pd.DataFrame({\n",
    "        \"Rank\": mdd_ranks[up_id],\n",
    "        \"Protein\": name,\n",
    "        \"Disease context\": \"Major depressive disorder\",\n",
    "    }))\n",
    "    results.append(pd.DataFrame({\n",
    "        \"Rank\": smoke_ranks[up_id],\n",
    "        \"Protein\": name,\n",
    "        \"Disease context\": \"Smoking cessation\",\n",
    "    }))\n",
    "\n",
    "results = pd.concat(results, ignore_index=True)"
   ]
  },
  {
   "cell_type": "code",
   "execution_count": 19,
   "id": "05eb1ae2",
   "metadata": {},
   "outputs": [
    {
     "data": {
      "text/html": [
       "<div>\n",
       "<style scoped>\n",
       "    .dataframe tbody tr th:only-of-type {\n",
       "        vertical-align: middle;\n",
       "    }\n",
       "\n",
       "    .dataframe tbody tr th {\n",
       "        vertical-align: top;\n",
       "    }\n",
       "\n",
       "    .dataframe thead th {\n",
       "        text-align: right;\n",
       "    }\n",
       "</style>\n",
       "<table border=\"1\" class=\"dataframe\">\n",
       "  <thead>\n",
       "    <tr style=\"text-align: right;\">\n",
       "      <th></th>\n",
       "      <th>Rank</th>\n",
       "      <th>Protein</th>\n",
       "      <th>Disease context</th>\n",
       "    </tr>\n",
       "  </thead>\n",
       "  <tbody>\n",
       "    <tr>\n",
       "      <th>0</th>\n",
       "      <td>7</td>\n",
       "      <td>NET</td>\n",
       "      <td>Major depressive disorder</td>\n",
       "    </tr>\n",
       "    <tr>\n",
       "      <th>1</th>\n",
       "      <td>4</td>\n",
       "      <td>NET</td>\n",
       "      <td>Major depressive disorder</td>\n",
       "    </tr>\n",
       "    <tr>\n",
       "      <th>2</th>\n",
       "      <td>5</td>\n",
       "      <td>NET</td>\n",
       "      <td>Major depressive disorder</td>\n",
       "    </tr>\n",
       "    <tr>\n",
       "      <th>3</th>\n",
       "      <td>3</td>\n",
       "      <td>NET</td>\n",
       "      <td>Major depressive disorder</td>\n",
       "    </tr>\n",
       "    <tr>\n",
       "      <th>4</th>\n",
       "      <td>5</td>\n",
       "      <td>NET</td>\n",
       "      <td>Major depressive disorder</td>\n",
       "    </tr>\n",
       "    <tr>\n",
       "      <th>...</th>\n",
       "      <td>...</td>\n",
       "      <td>...</td>\n",
       "      <td>...</td>\n",
       "    </tr>\n",
       "    <tr>\n",
       "      <th>115</th>\n",
       "      <td>6</td>\n",
       "      <td>AChR</td>\n",
       "      <td>Smoking cessation</td>\n",
       "    </tr>\n",
       "    <tr>\n",
       "      <th>116</th>\n",
       "      <td>31</td>\n",
       "      <td>AChR</td>\n",
       "      <td>Smoking cessation</td>\n",
       "    </tr>\n",
       "    <tr>\n",
       "      <th>117</th>\n",
       "      <td>7</td>\n",
       "      <td>AChR</td>\n",
       "      <td>Smoking cessation</td>\n",
       "    </tr>\n",
       "    <tr>\n",
       "      <th>118</th>\n",
       "      <td>34</td>\n",
       "      <td>AChR</td>\n",
       "      <td>Smoking cessation</td>\n",
       "    </tr>\n",
       "    <tr>\n",
       "      <th>119</th>\n",
       "      <td>12</td>\n",
       "      <td>AChR</td>\n",
       "      <td>Smoking cessation</td>\n",
       "    </tr>\n",
       "  </tbody>\n",
       "</table>\n",
       "<p>120 rows × 3 columns</p>\n",
       "</div>"
      ],
      "text/plain": [
       "     Rank Protein            Disease context\n",
       "0       7     NET  Major depressive disorder\n",
       "1       4     NET  Major depressive disorder\n",
       "2       5     NET  Major depressive disorder\n",
       "3       3     NET  Major depressive disorder\n",
       "4       5     NET  Major depressive disorder\n",
       "..    ...     ...                        ...\n",
       "115     6    AChR          Smoking cessation\n",
       "116    31    AChR          Smoking cessation\n",
       "117     7    AChR          Smoking cessation\n",
       "118    34    AChR          Smoking cessation\n",
       "119    12    AChR          Smoking cessation\n",
       "\n",
       "[120 rows x 3 columns]"
      ]
     },
     "execution_count": 19,
     "metadata": {},
     "output_type": "execute_result"
    }
   ],
   "source": [
    "results"
   ]
  },
  {
   "cell_type": "code",
   "execution_count": 20,
   "id": "0975571b",
   "metadata": {},
   "outputs": [
    {
     "data": {
      "image/png": "[encoded data removed]",
      "text/plain": [
       "<Figure size 1440x960 with 1 Axes>"
      ]
     },
     "metadata": {},
     "output_type": "display_data"
    }
   ],
   "source": [
    "plt.figure(figsize=(6, 4), dpi=240, tight_layout=True)\n",
    "ax = sns.pointplot(\n",
    "    data=results,\n",
    "    x=\"Disease context\",\n",
    "    hue=\"Protein\",\n",
    "    y=\"Rank\",\n",
    "    dodge=False,\n",
    "    markers=\"_\",\n",
    "    markersize=30,\n",
    "    palette=\"husl\",\n",
    "    linestyles=\":\",\n",
    "    linewidth=2,\n",
    "    errorbar=\"se\",  # ci=\"se\",\n",
    "    capsize=0.1,\n",
    "    order=[\"Smoking cessation\", \"Major depressive disorder\"]\n",
    ")\n",
    "\n",
    "for artist in ax.get_lines():\n",
    "    if isinstance(artist, matplotlib.lines.Line2D):\n",
    "        artist.set_alpha(0.4)  # Set the alpha value here\n",
    "\n",
    "plt.xticks(rotation=30, ha=\"right\")\n",
    "plt.legend(loc=\"center left\", bbox_to_anchor=(1, 0.5), frameon=False)\n",
    "plt.gca().invert_yaxis()\n",
    "sns.despine()\n",
    "\n",
    "plt.show()"
   ]
  },
  {
   "cell_type": "code",
   "execution_count": null,
   "id": "213f168d",
   "metadata": {},
   "outputs": [],
   "source": []
  }
 ],
 "metadata": {
  "kernelspec": {
   "display_name": "Python 3 (ipykernel)",
   "language": "python",
   "name": "python3"
  },
  "language_info": {
   "codemirror_mode": {
    "name": "ipython",
    "version": 3
   },
   "file_extension": ".py",
   "mimetype": "text/x-python",
   "name": "python",
   "nbconvert_exporter": "python",
   "pygments_lexer": "ipython3",
   "version": "3.11.9"
  }
 },
 "nbformat": 4,
 "nbformat_minor": 5
}
